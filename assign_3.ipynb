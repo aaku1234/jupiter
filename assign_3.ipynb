{
 "cells": [
  {
   "cell_type": "code",
   "execution_count": 9,
   "metadata": {},
   "outputs": [
    {
     "name": "stdout",
     "output_type": "stream",
     "text": [
      " A = P(A) \n",
      " B = P(B) \n",
      " C = P(A/B) \n",
      " D = P(B/A)\n",
      "0.0303030303030303\n"
     ]
    }
   ],
   "source": [
    "# ques.1.\n",
    "A = 11 / 36\n",
    "B = 6 / 36\n",
    "C = 2 / 36\n",
    "D = (C*B)/A\n",
    "print(\" A = P(A) \\n B = P(B) \\n C = P(A/B) \\n D = P(B/A)\")\n",
    "print(D)"
   ]
  },
  {
   "cell_type": "code",
   "execution_count": 11,
   "metadata": {},
   "outputs": [
    {
     "name": "stdout",
     "output_type": "stream",
     "text": [
      " a= p(a)\n",
      " b= p(b)\n",
      " c= p(a/b)\n",
      " d= p(b/a)\n",
      " e= p(b/b) \n",
      "0.5833333333333334\n"
     ]
    }
   ],
   "source": [
    "#ques.2.\n",
    "print(\" a= p(a)\\n b= p(b)\\n c= p(a/b)\\n d= p(b/a)\\n e= p(b/b) \")\n",
    "\n",
    "a= 1/2\n",
    "b= 1/2\n",
    "d= 6/10\n",
    "e= 3/7\n",
    "b= (a*d)+(b*e)\n",
    "c= (d*a)/b\n",
    "print(c)"
   ]
  },
  {
   "cell_type": "code",
   "execution_count": null,
   "metadata": {},
   "outputs": [],
   "source": []
  }
 ],
 "metadata": {
  "kernelspec": {
   "display_name": "Python 3",
   "language": "python",
   "name": "python3"
  },
  "language_info": {
   "codemirror_mode": {
    "name": "ipython",
    "version": 3
   },
   "file_extension": ".py",
   "mimetype": "text/x-python",
   "name": "python",
   "nbconvert_exporter": "python",
   "pygments_lexer": "ipython3",
   "version": "3.7.1"
  }
 },
 "nbformat": 4,
 "nbformat_minor": 2
}
