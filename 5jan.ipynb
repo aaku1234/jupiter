{
 "cells": [
  {
   "cell_type": "code",
   "execution_count": 20,
   "metadata": {},
   "outputs": [
    {
     "name": "stdout",
     "output_type": "stream",
     "text": [
      "[[0.35036765]\n",
      " [0.99580788]\n",
      " [0.9533292 ]\n",
      " [0.31848466]\n",
      " [0.86886362]\n",
      " [0.05068733]\n",
      " [0.27209163]\n",
      " [0.0692974 ]\n",
      " [0.45483368]\n",
      " [0.10319186]]\n"
     ]
    },
    {
     "data": {
      "text/plain": [
       "0.4436954906280036"
      ]
     },
     "execution_count": 20,
     "metadata": {},
     "output_type": "execute_result"
    }
   ],
   "source": [
    "#ques.1.\n",
    "import numpy as np\n",
    "a= np.random.rand(10,1)\n",
    "print(a)\n",
    "np.mean(a)"
   ]
  },
  {
   "cell_type": "code",
   "execution_count": 50,
   "metadata": {},
   "outputs": [
    {
     "name": "stdout",
     "output_type": "stream",
     "text": [
      "[[0.47163924]\n",
      " [0.13993007]\n",
      " [0.93958215]\n",
      " [0.11113591]\n",
      " [0.44441065]\n",
      " [0.90696976]\n",
      " [0.60908266]\n",
      " [0.5058505 ]\n",
      " [0.15794383]\n",
      " [0.20705697]\n",
      " [0.08668449]\n",
      " [0.52045275]\n",
      " [0.3358601 ]\n",
      " [0.12986052]\n",
      " [0.89258026]\n",
      " [0.29121203]\n",
      " [0.24022047]\n",
      " [0.69648092]\n",
      " [0.48152361]\n",
      " [0.64156877]]\n",
      "0.07234734063330339\n",
      "0.2689746096442997\n"
     ]
    }
   ],
   "source": [
    "#ques.2.\n",
    "import numpy as np\n",
    "a= np.random.rand(20,1)\n",
    "print(a)\n",
    "c= np.var(a) \n",
    "print(c)\n",
    "d= np.std(a)\n",
    "print(d)\n"
   ]
  },
  {
   "cell_type": "code",
   "execution_count": 70,
   "metadata": {},
   "outputs": [
    {
     "name": "stdout",
     "output_type": "stream",
     "text": [
      "(10, 25)\n",
      "1278.7759947634145\n"
     ]
    }
   ],
   "source": [
    "#ques.3.\n",
    "import numpy as np\n",
    "a=np.random.rand(10,20)\n",
    "b= np.random.rand(20,25)\n",
    "mul = np.dot(a,b)\n",
    "c= mul.shape\n",
    "print(c)\n",
    "d= np.sum(mul)\n",
    "print(d)"
   ]
  },
  {
   "cell_type": "code",
   "execution_count": 75,
   "metadata": {},
   "outputs": [
    {
     "data": {
      "text/plain": [
       "array([[0],\n",
       "       [1],\n",
       "       [2],\n",
       "       [3],\n",
       "       [4],\n",
       "       [5],\n",
       "       [6],\n",
       "       [7],\n",
       "       [8],\n",
       "       [9]])"
      ]
     },
     "execution_count": 75,
     "metadata": {},
     "output_type": "execute_result"
    }
   ],
   "source": [
    "#ques.4.\n",
    "import numpy as np\n",
    "np.arange(10).reshape(10,1)\n"
   ]
  }
 ],
 "metadata": {
  "kernelspec": {
   "display_name": "Python 3",
   "language": "python",
   "name": "python3"
  },
  "language_info": {
   "codemirror_mode": {
    "name": "ipython",
    "version": 3
   },
   "file_extension": ".py",
   "mimetype": "text/x-python",
   "name": "python",
   "nbconvert_exporter": "python",
   "pygments_lexer": "ipython3",
   "version": "3.7.1"
  }
 },
 "nbformat": 4,
 "nbformat_minor": 2
}
